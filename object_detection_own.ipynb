{
  "nbformat": 4,
  "nbformat_minor": 0,
  "metadata": {
    "colab": {
      "name": "object_detection_own.ipynb",
      "private_outputs": true,
      "provenance": [],
      "collapsed_sections": []
    },
    "kernelspec": {
      "name": "python3",
      "display_name": "Python 3"
    },
    "accelerator": "GPU"
  },
  "cells": [
    {
      "cell_type": "markdown",
      "metadata": {
        "id": "cP0CtnMHJKvf"
      },
      "source": [
        "The following code is written to perform Object Detection on Google Colab."
      ]
    },
    {
      "cell_type": "markdown",
      "metadata": {
        "id": "8OxcpeSTGNrV"
      },
      "source": [
        "\n",
        "Import Tensorflow and check its version"
      ]
    },
    {
      "cell_type": "code",
      "metadata": {
        "id": "iVFhoP-KZrES"
      },
      "source": [
        "!pip install tf-nightly-gpu-2.0-preview\n",
        "\n",
        "import tensorflow as tf\n",
        "print(tf.__version__)\n",
        "import tensorflow_hub as hub"
      ],
      "execution_count": null,
      "outputs": []
    },
    {
      "cell_type": "markdown",
      "metadata": {
        "id": "LpM6Lo2-GMmP"
      },
      "source": [
        "Import essential Python Libraries"
      ]
    },
    {
      "cell_type": "code",
      "metadata": {
        "id": "yReVLprkakaQ"
      },
      "source": [
        "# For downloading the image\n",
        "import matplotlib.pyplot as plt\n",
        "import tempfile\n",
        "from six.moves.urllib.request import urlopen\n",
        "from six import BytesIO\n",
        "\n",
        "# FOr drwaing on the image\n",
        "import numpy as np\n",
        "from PIL import Image\n",
        "from PIL import ImageDraw\n",
        "from PIL import ImageColor\n",
        "from PIL import ImageFont\n",
        "from PIL import ImageOps\n",
        "\n",
        "#TIME\n",
        "import time\n",
        "#Check Available GPU\n",
        "print(\"Number of GPU Available\", tf.test.gpu_device_name())"
      ],
      "execution_count": null,
      "outputs": []
    },
    {
      "cell_type": "markdown",
      "metadata": {
        "id": "Sqhu9rF7Gb1q"
      },
      "source": [
        "Define Functions for display image, download and resize image & draw boounding box on image."
      ]
    },
    {
      "cell_type": "code",
      "metadata": {
        "id": "Nnam4ax2pqpQ"
      },
      "source": [
        "def display_image(image):\n",
        "  flt = plt.figure(figsize=(20,15))\n",
        "  plt.grid(False)\n",
        "  plt.imshow(image)\n",
        "\n",
        "def download_and_resize_image(url, new_height = 256, new_width = 256, display = False):\n",
        "  _, filename = tempfile.mkstemp(suffix = \".jpg\")\n",
        "  response = urlopen(url)\n",
        "  image_data = response.read()\n",
        "  image_data = BytesIO(image_data)\n",
        "  pil_image = Image.open(image_data)\n",
        "  pil_image = ImageOps.fit(pil_image, (new_height, new_width), Image.ANTIALIAS)\n",
        "  pil_image_rgb = pil_image.convert(\"RGB\")\n",
        "  pil_image_rgb.save(filename, format = \"JPEG\", quality = 90)\n",
        "  print(\"Image downloaded to %s\"%filename)\n",
        "  if display:\n",
        "    display_image(pil_image)\n",
        "  return filename\n",
        "\n",
        "def draw_bounding_box_on_image(image, ymin, xmin, ymax, xmax, color, font, thickness = 4, display_str_list= ()):\n",
        "  draw = ImageDraw.Draw(image)\n",
        "  im_width, im_height = image.size\n",
        "  (left, right, top, bottom) = (im_width*xmin, im_width*xmax, im_height*ymin, im_height*ymax)\n",
        "  draw.line([(left,top),(left,bottom),(right,bottom),(right,top),(left,top)], width = thickness, fill = color)\n",
        "\n",
        "  display_str_height = [font.getsize(ds)[1] for ds in display_str_list]\n",
        "  total_display_str_height = (1+2*0.05)*sum(display_str_height)\n",
        "  \n",
        "  if top > total_display_str_height:\n",
        "    text_bottom = top \n",
        "  else:\n",
        "    text_bottom = bottom + total_display_str_height\n",
        "\n",
        "  for display_str in display_str_list[::-1]:\n",
        "    text_width, text_height = font.getsize(display_str)\n",
        "    margin = np.ceil(0.05*text_height)\n",
        "    draw.rectangle([(left, text_bottom-text_height-2*margin),(left+text_width+2*margin,text_bottom)],fill = color)\n",
        "    draw.text([left+margin, text_bottom-text_height+margin],display_str,fill = \"black\",font = font)\n",
        "    text_bottom -= text_height - 2*margin\n",
        "\n",
        "def draw_boxes(image, boxes, class_names, scores, max_boxes=10, min_score = 0.1):\n",
        "    colors = list(ImageColor.colormap.values())\n",
        "    font = ImageFont.load_default()\n",
        "\n",
        "    for i in range(min(boxes.shape[0], max_boxes)):\n",
        "      if scores[i]>=min_score:\n",
        "        ymin, xmin, ymax, xmax = tuple(boxes[i])\n",
        "        display_str = \"{} : {}%\".format(class_names[i].decode(\"ascii\"), int(100* scores[i]))\n",
        "\n",
        "        color = colors[hash(class_names[i]) % len(colors)]\n",
        "        \n",
        "        \n",
        "        image_pil = Image.fromarray(image).convert(\"RGB\")\n",
        "        \n",
        "        draw_bounding_box_on_image(\n",
        "            image_pil,\n",
        "            ymin,\n",
        "            xmin,\n",
        "            ymax,\n",
        "            xmax,\n",
        "            color,\n",
        "            font,\n",
        "            display_str_list = [display_str]\n",
        "        )\n",
        "        np.copyto(image, np.array(image_pil))\n",
        "    return image"
      ],
      "execution_count": null,
      "outputs": []
    },
    {
      "cell_type": "markdown",
      "metadata": {
        "id": "5xAa8LFrGzec"
      },
      "source": [
        "Download image from internet for Testing."
      ]
    },
    {
      "cell_type": "code",
      "metadata": {
        "id": "qrhZXL3oq30Q"
      },
      "source": [
        "image_url = \"https://farm1.staticflickr.com/4032/4653948754_c0d768086b_o.jpg\" \n",
        "download_image_path = download_and_resize_image(image_url, 1200, 856, True)"
      ],
      "execution_count": null,
      "outputs": []
    },
    {
      "cell_type": "markdown",
      "metadata": {
        "id": "SBxqWnx-G6YP"
      },
      "source": [
        "Download Model to perform object detection\n"
      ]
    },
    {
      "cell_type": "code",
      "metadata": {
        "id": "EhQCBnrewayG"
      },
      "source": [
        "module_handle = \"https://tfhub.dev/google/faster_rcnn/openimages_v4/inception_resnet_v2/1\" #@param [\"https://tfhub.dev/google/openimages_v4/ssd/mobilenet_v2/1\", \"https://tfhub.dev/google/faster_rcnn/openimages_v4/inception_resnet_v2/1\"]\n",
        "\n",
        "detector = hub.load(module_handle).signatures['default']"
      ],
      "execution_count": null,
      "outputs": []
    },
    {
      "cell_type": "markdown",
      "metadata": {
        "id": "pCLYU5RxHG3D"
      },
      "source": [
        "Define Function to load image."
      ]
    },
    {
      "cell_type": "code",
      "metadata": {
        "id": "nXBp6LOVrOQK"
      },
      "source": [
        "def load_img(path):\n",
        "  img = tf.io.read_file(path)\n",
        "  img = tf.image.decode_jpeg(img, channels=3)\n",
        "  return img"
      ],
      "execution_count": null,
      "outputs": []
    },
    {
      "cell_type": "markdown",
      "metadata": {
        "id": "Cq1o-wZpHMCH"
      },
      "source": [
        ""
      ]
    },
    {
      "cell_type": "markdown",
      "metadata": {
        "id": "0n-aABgsHOXf"
      },
      "source": [
        "Define function to perform Object Detection"
      ]
    },
    {
      "cell_type": "code",
      "metadata": {
        "id": "WoxOsfRmreso"
      },
      "source": [
        "def run_detector(detector, path):\n",
        "  img = load_img(path)\n",
        "  converted_img = tf.image.convert_image_dtype(img, tf.float32)[tf.newaxis, ...]\n",
        "  start_time = time.time()\n",
        "  results = detector(converted_img)\n",
        "  end_time = time.time()\n",
        "  \n",
        "  result = {key: value.numpy() for key, value in results.items()}\n",
        "  \n",
        "  print(\"Found %d objects\"%len(result[\"detection_scores\"]))\n",
        "  print(\"Inference Time : \", end_time-start_time)\n",
        "\n",
        "  image_with_boxes = draw_boxes(img.numpy(), result[\"detection_boxes\"], result[\"detection_class_entities\"], result[\"detection_scores\"])\n",
        "  display_image(image_with_boxes)"
      ],
      "execution_count": null,
      "outputs": []
    },
    {
      "cell_type": "markdown",
      "metadata": {
        "id": "n9TBEJAyHT3s"
      },
      "source": [
        ""
      ]
    },
    {
      "cell_type": "markdown",
      "metadata": {
        "id": "ex2VREREHVa9"
      },
      "source": [
        "Run object detection on testing image.\n"
      ]
    },
    {
      "cell_type": "code",
      "metadata": {
        "id": "mdCpMSoms308"
      },
      "source": [
        "run_detector(detector, download_image_path)"
      ],
      "execution_count": null,
      "outputs": []
    },
    {
      "cell_type": "markdown",
      "metadata": {
        "id": "GXno5BxDHgZL"
      },
      "source": [
        ""
      ]
    },
    {
      "cell_type": "markdown",
      "metadata": {
        "id": "ltn-t4dZHbhR"
      },
      "source": [
        "Run object detection on three images from internet"
      ]
    },
    {
      "cell_type": "code",
      "metadata": {
        "id": "FxZWKTFQtTBu"
      },
      "source": [
        "image_urls = [\"https://farm7.staticflickr.com/8092/8592917784_4759d3088b_o.jpg\",\n",
        "              \"https://farm6.staticflickr.com/2598/4138342721_06f6e177f3_o.jpg\",\n",
        "              \"https://c4.staticflickr.com/9/8322/8053836633_6dc507f090_o.jpg\"]\n",
        "for image_url in image_urls:\n",
        "  image_path = download_and_resize_image(image_url, 640, 480)\n",
        "  run_detector(detector, image_path)\n"
      ],
      "execution_count": null,
      "outputs": []
    },
    {
      "cell_type": "markdown",
      "metadata": {
        "id": "JmnE5SEEHh0K"
      },
      "source": [
        "Thanks. \n",
        "VIPUL KAMBOJ"
      ]
    }
  ]
}